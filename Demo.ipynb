{
 "cells": [
  {
   "cell_type": "code",
   "execution_count": null,
   "metadata": {},
   "outputs": [],
   "source": [
    "println(s\"Hello, ${\"world\"}!\")"
   ]
  },
  {
   "cell_type": "markdown",
   "metadata": {},
   "source": [
    "Here is some _Markdown_ text. Let's add a formula: $$x=\\frac{-b\\pm\\sqrt{b^2-4ac}}{2a}$$"
   ]
  },
  {
   "cell_type": "code",
   "execution_count": null,
   "metadata": {},
   "outputs": [],
   "source": [
    "def qf(a: Double, b: Double, c: Double): List[Double] = {\n",
    "    val disc = b * b - 4 * a * c\n",
    "    if (disc > 0) {\n",
    "        val s = math.sqrt(disc)\n",
    "        List((-b + s) / (2 * a), (-b - s) / (2 * a))\n",
    "    } else if (disc == 0) {\n",
    "        List(-b / (2 * a))\n",
    "    } else {\n",
    "        List()\n",
    "    }\n",
    "}"
   ]
  },
  {
   "cell_type": "code",
   "execution_count": null,
   "metadata": {},
   "outputs": [],
   "source": [
    "qf(1, -1, -1)"
   ]
  },
  {
   "cell_type": "markdown",
   "metadata": {},
   "source": [
    "Here is an embedded Scala code block:\n",
    "\n",
    "```scala\n",
    "for (i <- 1 to 10) {\n",
    "    println(s\"Line $i\")\n",
    "}\n",
    "```\n"
   ]
  },
  {
   "cell_type": "code",
   "execution_count": null,
   "metadata": {},
   "outputs": [],
   "source": [
    "for (i <- 1 to 10) {\n",
    "    println(s\"Line $i\")\n",
    "}"
   ]
  },
  {
   "cell_type": "code",
   "execution_count": null,
   "metadata": {},
   "outputs": [],
   "source": [
    "import $ivy.`org.typelevel::cats-core:2.0.0`\n",
    "import cats.syntax.semigroup._ // for |+|\n",
    "import cats.instances.int._    // for Monoid\n",
    "import cats.instances.option._ // for Monoid\n",
    "\n",
    "Option(1) |+| Option(2)"
   ]
  },
  {
   "cell_type": "code",
   "execution_count": null,
   "metadata": {},
   "outputs": [],
   "source": [
    "import almond.interpreter.api.DisplayData\n",
    "\n",
    "display(\n",
    "  DisplayData(\n",
    "    Map(\n",
    "      \"text/html\" -> \"Some <b>HTML</b>\")))"
   ]
  },
  {
   "cell_type": "code",
   "execution_count": null,
   "metadata": {},
   "outputs": [],
   "source": [
    "case class Person(name: String, age: Int)\n",
    "case class People(people: Seq[Person])\n",
    "\n",
    "val people = People(\n",
    "  Seq(\n",
    "    Person(\"alice\", 29),\n",
    "    Person(\"bob\", 23),\n",
    "    Person(\"charlie\", 34)\n",
    "  )\n",
    ")"
   ]
  },
  {
   "cell_type": "code",
   "execution_count": null,
   "metadata": {},
   "outputs": [],
   "source": [
    "import $ivy.`com.lihaoyi::scalatags:0.7.0`\n",
    "\n",
    "import jupyter.Displayer, jupyter.Displayers\n",
    "import scala.collection.JavaConverters._\n",
    "\n",
    "// Note that as of now this approach doesn't seem to work with parameterized types like Seq[Person]\n",
    "// which is probably due to type erasure.\n",
    "Displayers.register(classOf[People], (people: People) => {\n",
    "  import scalatags.Text.all._\n",
    "  Map(\n",
    "    \"text/html\" -> {\n",
    "      table(cls:=\"table\")(\n",
    "        tr(th(\"Name\"), th(\"Age\")),\n",
    "        for (Person(name, age) <- people.people) yield tr(\n",
    "          td(name),\n",
    "          td(age)\n",
    "        )\n",
    "      ).render\n",
    "    }\n",
    "  ).asJava\n",
    "})\n",
    "\n",
    "people"
   ]
  },
  {
   "cell_type": "code",
   "execution_count": null,
   "metadata": {},
   "outputs": [],
   "source": [
    "  Image\n",
    "  .from(\"https://almond.sh/logos/impure-logos-almond-3b.png\")\n",
    "  .withWidth(150)"
   ]
  },
  {
   "cell_type": "code",
   "execution_count": null,
   "metadata": {},
   "outputs": [],
   "source": [
    "import $ivy.`org.plotly-scala::plotly-almond:0.7.1`\n",
    "import plotly._, plotly.element._, plotly.layout._, plotly.Almond._\n",
    "{{  \n",
    "  val trace1 = Scatter(\n",
    "    Seq(1, 2, 3, 4),\n",
    "    Seq(0, 2, 3, 5),\n",
    "    fill = Fill.ToZeroY\n",
    "  )\n",
    "\n",
    "  val trace2 = Scatter(\n",
    "    Seq(1, 2, 3, 4),\n",
    "    Seq(3, 5, 1, 7),\n",
    "    fill = Fill.ToNextY\n",
    "  )\n",
    "\n",
    "  val data = Seq(trace1, trace2)\n",
    "\n",
    "  plot(data)\n",
    "}}"
   ]
  },
  {
   "cell_type": "code",
   "execution_count": null,
   "metadata": {},
   "outputs": [],
   "source": [
    "import $ivy.`io.github.stanch::reftree:1.4.0`\n",
    "\n",
    "{{\n",
    "  import reftree.render._, reftree.diagram._\n",
    "  import reftree.contrib.SimplifiedInstances.string\n",
    "  val renderer = Renderer(renderingOptions = RenderingOptions(density = 75))\n",
    "    \n",
    "  case class Person(name: String, age: Int)\n",
    "  val people = List(\n",
    "    Person(\"Alice\", 29),\n",
    "    Person(\"Bob\", 23),\n",
    "    Person(\"Charlie\", 34)\n",
    "  )\n",
    "\n",
    "  renderer.render(\"example\", Diagram.sourceCodeCaption(people))\n",
    "}}.\n",
    "Image.fromFile(\"example.png\")"
   ]
  },
  {
   "cell_type": "code",
   "execution_count": null,
   "metadata": {},
   "outputs": [],
   "source": []
  }
 ],
 "metadata": {
  "kernelspec": {
   "display_name": "Scala (2.13)",
   "language": "scala",
   "name": "scala213"
  },
  "language_info": {
   "codemirror_mode": "text/x-scala",
   "file_extension": ".scala",
   "mimetype": "text/x-scala",
   "name": "scala",
   "nbconvert_exporter": "script",
   "version": "2.13.1"
  }
 },
 "nbformat": 4,
 "nbformat_minor": 4
}
